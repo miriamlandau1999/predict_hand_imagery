{
 "cells": [
  {
   "cell_type": "markdown",
   "metadata": {
    "vscode": {
     "languageId": "plaintext"
    }
   },
   "source": [
    "# Overview"
   ]
  },
  {
   "cell_type": "code",
   "execution_count": 14,
   "metadata": {},
   "outputs": [],
   "source": [
    "# Import necessary packages\n",
    "from utils import pd, train_test_split"
   ]
  },
  {
   "cell_type": "code",
   "execution_count": 15,
   "metadata": {},
   "outputs": [
    {
     "data": {
      "text/html": [
       "<div>\n",
       "<style scoped>\n",
       "    .dataframe tbody tr th:only-of-type {\n",
       "        vertical-align: middle;\n",
       "    }\n",
       "\n",
       "    .dataframe tbody tr th {\n",
       "        vertical-align: top;\n",
       "    }\n",
       "\n",
       "    .dataframe thead th {\n",
       "        text-align: right;\n",
       "    }\n",
       "</style>\n",
       "<table border=\"1\" class=\"dataframe\">\n",
       "  <thead>\n",
       "    <tr style=\"text-align: right;\">\n",
       "      <th></th>\n",
       "      <th>trial_id</th>\n",
       "      <th>subject_id</th>\n",
       "      <th>ch1_std</th>\n",
       "      <th>ch1_mean</th>\n",
       "      <th>ch1_max</th>\n",
       "      <th>ch1_min</th>\n",
       "      <th>ch2_std</th>\n",
       "      <th>ch2_mean</th>\n",
       "      <th>ch2_max</th>\n",
       "      <th>ch2_min</th>\n",
       "      <th>...</th>\n",
       "      <th>ch62_min</th>\n",
       "      <th>ch63_std</th>\n",
       "      <th>ch63_mean</th>\n",
       "      <th>ch63_max</th>\n",
       "      <th>ch63_min</th>\n",
       "      <th>ch64_std</th>\n",
       "      <th>ch64_mean</th>\n",
       "      <th>ch64_max</th>\n",
       "      <th>ch64_min</th>\n",
       "      <th>label</th>\n",
       "    </tr>\n",
       "  </thead>\n",
       "  <tbody>\n",
       "    <tr>\n",
       "      <th>0</th>\n",
       "      <td>0</td>\n",
       "      <td>S012R04</td>\n",
       "      <td>0.000028</td>\n",
       "      <td>-0.000010</td>\n",
       "      <td>0.000059</td>\n",
       "      <td>-0.000111</td>\n",
       "      <td>0.000028</td>\n",
       "      <td>-0.000006</td>\n",
       "      <td>0.000062</td>\n",
       "      <td>-0.000093</td>\n",
       "      <td>...</td>\n",
       "      <td>-0.000063</td>\n",
       "      <td>0.000021</td>\n",
       "      <td>-4.080704e-06</td>\n",
       "      <td>0.000067</td>\n",
       "      <td>-0.000056</td>\n",
       "      <td>0.000019</td>\n",
       "      <td>-6.626980e-07</td>\n",
       "      <td>0.000056</td>\n",
       "      <td>-0.000053</td>\n",
       "      <td>1</td>\n",
       "    </tr>\n",
       "    <tr>\n",
       "      <th>1</th>\n",
       "      <td>656</td>\n",
       "      <td>S012R04</td>\n",
       "      <td>0.000033</td>\n",
       "      <td>0.000006</td>\n",
       "      <td>0.000111</td>\n",
       "      <td>-0.000079</td>\n",
       "      <td>0.000022</td>\n",
       "      <td>0.000003</td>\n",
       "      <td>0.000057</td>\n",
       "      <td>-0.000047</td>\n",
       "      <td>...</td>\n",
       "      <td>-0.000036</td>\n",
       "      <td>0.000020</td>\n",
       "      <td>3.332963e-06</td>\n",
       "      <td>0.000045</td>\n",
       "      <td>-0.000043</td>\n",
       "      <td>0.000019</td>\n",
       "      <td>3.642887e-06</td>\n",
       "      <td>0.000047</td>\n",
       "      <td>-0.000040</td>\n",
       "      <td>2</td>\n",
       "    </tr>\n",
       "    <tr>\n",
       "      <th>2</th>\n",
       "      <td>1312</td>\n",
       "      <td>S012R04</td>\n",
       "      <td>0.000026</td>\n",
       "      <td>-0.000003</td>\n",
       "      <td>0.000058</td>\n",
       "      <td>-0.000077</td>\n",
       "      <td>0.000018</td>\n",
       "      <td>-0.000004</td>\n",
       "      <td>0.000049</td>\n",
       "      <td>-0.000052</td>\n",
       "      <td>...</td>\n",
       "      <td>-0.000047</td>\n",
       "      <td>0.000018</td>\n",
       "      <td>-1.986943e-06</td>\n",
       "      <td>0.000036</td>\n",
       "      <td>-0.000043</td>\n",
       "      <td>0.000017</td>\n",
       "      <td>-2.827891e-06</td>\n",
       "      <td>0.000037</td>\n",
       "      <td>-0.000043</td>\n",
       "      <td>1</td>\n",
       "    </tr>\n",
       "    <tr>\n",
       "      <th>3</th>\n",
       "      <td>1968</td>\n",
       "      <td>S012R04</td>\n",
       "      <td>0.000026</td>\n",
       "      <td>-0.000004</td>\n",
       "      <td>0.000056</td>\n",
       "      <td>-0.000079</td>\n",
       "      <td>0.000027</td>\n",
       "      <td>-0.000002</td>\n",
       "      <td>0.000063</td>\n",
       "      <td>-0.000068</td>\n",
       "      <td>...</td>\n",
       "      <td>-0.000062</td>\n",
       "      <td>0.000024</td>\n",
       "      <td>1.415632e-06</td>\n",
       "      <td>0.000064</td>\n",
       "      <td>-0.000056</td>\n",
       "      <td>0.000025</td>\n",
       "      <td>2.380007e-06</td>\n",
       "      <td>0.000062</td>\n",
       "      <td>-0.000058</td>\n",
       "      <td>3</td>\n",
       "    </tr>\n",
       "    <tr>\n",
       "      <th>4</th>\n",
       "      <td>2624</td>\n",
       "      <td>S012R04</td>\n",
       "      <td>0.000030</td>\n",
       "      <td>0.000005</td>\n",
       "      <td>0.000105</td>\n",
       "      <td>-0.000056</td>\n",
       "      <td>0.000024</td>\n",
       "      <td>0.000003</td>\n",
       "      <td>0.000066</td>\n",
       "      <td>-0.000046</td>\n",
       "      <td>...</td>\n",
       "      <td>-0.000055</td>\n",
       "      <td>0.000021</td>\n",
       "      <td>4.673331e-07</td>\n",
       "      <td>0.000047</td>\n",
       "      <td>-0.000053</td>\n",
       "      <td>0.000018</td>\n",
       "      <td>8.674011e-07</td>\n",
       "      <td>0.000049</td>\n",
       "      <td>-0.000041</td>\n",
       "      <td>1</td>\n",
       "    </tr>\n",
       "  </tbody>\n",
       "</table>\n",
       "<p>5 rows × 259 columns</p>\n",
       "</div>"
      ],
      "text/plain": [
       "   trial_id subject_id   ch1_std  ch1_mean   ch1_max   ch1_min   ch2_std  \\\n",
       "0         0    S012R04  0.000028 -0.000010  0.000059 -0.000111  0.000028   \n",
       "1       656    S012R04  0.000033  0.000006  0.000111 -0.000079  0.000022   \n",
       "2      1312    S012R04  0.000026 -0.000003  0.000058 -0.000077  0.000018   \n",
       "3      1968    S012R04  0.000026 -0.000004  0.000056 -0.000079  0.000027   \n",
       "4      2624    S012R04  0.000030  0.000005  0.000105 -0.000056  0.000024   \n",
       "\n",
       "   ch2_mean   ch2_max   ch2_min  ...  ch62_min  ch63_std     ch63_mean  \\\n",
       "0 -0.000006  0.000062 -0.000093  ... -0.000063  0.000021 -4.080704e-06   \n",
       "1  0.000003  0.000057 -0.000047  ... -0.000036  0.000020  3.332963e-06   \n",
       "2 -0.000004  0.000049 -0.000052  ... -0.000047  0.000018 -1.986943e-06   \n",
       "3 -0.000002  0.000063 -0.000068  ... -0.000062  0.000024  1.415632e-06   \n",
       "4  0.000003  0.000066 -0.000046  ... -0.000055  0.000021  4.673331e-07   \n",
       "\n",
       "   ch63_max  ch63_min  ch64_std     ch64_mean  ch64_max  ch64_min  label  \n",
       "0  0.000067 -0.000056  0.000019 -6.626980e-07  0.000056 -0.000053      1  \n",
       "1  0.000045 -0.000043  0.000019  3.642887e-06  0.000047 -0.000040      2  \n",
       "2  0.000036 -0.000043  0.000017 -2.827891e-06  0.000037 -0.000043      1  \n",
       "3  0.000064 -0.000056  0.000025  2.380007e-06  0.000062 -0.000058      3  \n",
       "4  0.000047 -0.000053  0.000018  8.674011e-07  0.000049 -0.000041      1  \n",
       "\n",
       "[5 rows x 259 columns]"
      ]
     },
     "execution_count": 15,
     "metadata": {},
     "output_type": "execute_result"
    }
   ],
   "source": [
    "# Load data from csv file\n",
    "df = pd.read_csv('../data/interim/eeg_motor_imagery.csv')\n",
    "df.head()"
   ]
  },
  {
   "cell_type": "code",
   "execution_count": 16,
   "metadata": {},
   "outputs": [
    {
     "data": {
      "text/plain": [
       "label\n",
       "2    107\n",
       "3    103\n",
       "Name: count, dtype: int64"
      ]
     },
     "execution_count": 16,
     "metadata": {},
     "output_type": "execute_result"
    }
   ],
   "source": [
    "# Remove rest state data to keep only left and right hand imagery\n",
    "df = df[df['label'] != 1]\n",
    "df['label'].value_counts()\n"
   ]
  },
  {
   "cell_type": "code",
   "execution_count": 17,
   "metadata": {},
   "outputs": [
    {
     "data": {
      "text/plain": [
       "label\n",
       "0    107\n",
       "1    103\n",
       "Name: count, dtype: int64"
      ]
     },
     "execution_count": 17,
     "metadata": {},
     "output_type": "execute_result"
    }
   ],
   "source": [
    "# Map labels left hand from 2 → 0, right hand from 3 → 1\n",
    "df['label'] = df['label'].map({2: 0, 3: 1})\n",
    "df['label'].value_counts()\n"
   ]
  },
  {
   "cell_type": "code",
   "execution_count": 18,
   "metadata": {},
   "outputs": [
    {
     "data": {
      "text/plain": [
       "((168, 259), (42, 259))"
      ]
     },
     "execution_count": 18,
     "metadata": {},
     "output_type": "execute_result"
    }
   ],
   "source": [
    "# Split data into train and test \n",
    "train_df, test_df = train_test_split(df, random_state=42, test_size=0.2)\n",
    "train_df.shape, test_df.shape"
   ]
  },
  {
   "cell_type": "code",
   "execution_count": 19,
   "metadata": {},
   "outputs": [],
   "source": [
    "# Save data to processed folder\n",
    "df.to_csv('../data/processed/eeg.csv', index=False)"
   ]
  },
  {
   "cell_type": "markdown",
   "metadata": {},
   "source": [
    "# Key Takeways\n",
    "\n",
    "- Rows with a label of 1 indicating rest state have been removed\n",
    "- Label has been mapped from 2 and 3 to 1 and 0 \n",
    "- Data has been split into train and test data and saved in the data/processed folder\n",
    "- No encoding or null handling is needed"
   ]
  }
 ],
 "metadata": {
  "kernelspec": {
   "display_name": "venv",
   "language": "python",
   "name": "python3"
  },
  "language_info": {
   "codemirror_mode": {
    "name": "ipython",
    "version": 3
   },
   "file_extension": ".py",
   "mimetype": "text/x-python",
   "name": "python",
   "nbconvert_exporter": "python",
   "pygments_lexer": "ipython3",
   "version": "3.9.6"
  }
 },
 "nbformat": 4,
 "nbformat_minor": 2
}
