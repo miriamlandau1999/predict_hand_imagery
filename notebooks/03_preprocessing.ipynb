{
 "cells": [
  {
   "cell_type": "markdown",
   "metadata": {
    "vscode": {
     "languageId": "plaintext"
    }
   },
   "source": [
    "# Overview"
   ]
  },
  {
   "cell_type": "code",
   "execution_count": 1,
   "metadata": {},
   "outputs": [],
   "source": [
    "# Import necessary packages\n",
    "from utils import pd, train_test_split"
   ]
  },
  {
   "cell_type": "code",
   "execution_count": 2,
   "metadata": {},
   "outputs": [
    {
     "data": {
      "text/html": [
       "<div>\n",
       "<style scoped>\n",
       "    .dataframe tbody tr th:only-of-type {\n",
       "        vertical-align: middle;\n",
       "    }\n",
       "\n",
       "    .dataframe tbody tr th {\n",
       "        vertical-align: top;\n",
       "    }\n",
       "\n",
       "    .dataframe thead th {\n",
       "        text-align: right;\n",
       "    }\n",
       "</style>\n",
       "<table border=\"1\" class=\"dataframe\">\n",
       "  <thead>\n",
       "    <tr style=\"text-align: right;\">\n",
       "      <th></th>\n",
       "      <th>trial_id</th>\n",
       "      <th>subject_id</th>\n",
       "      <th>ch1_std</th>\n",
       "      <th>ch1_mean</th>\n",
       "      <th>ch1_max</th>\n",
       "      <th>ch1_min</th>\n",
       "      <th>ch2_std</th>\n",
       "      <th>ch2_mean</th>\n",
       "      <th>ch2_max</th>\n",
       "      <th>ch2_min</th>\n",
       "      <th>...</th>\n",
       "      <th>ch62_min</th>\n",
       "      <th>ch63_std</th>\n",
       "      <th>ch63_mean</th>\n",
       "      <th>ch63_max</th>\n",
       "      <th>ch63_min</th>\n",
       "      <th>ch64_std</th>\n",
       "      <th>ch64_mean</th>\n",
       "      <th>ch64_max</th>\n",
       "      <th>ch64_min</th>\n",
       "      <th>label</th>\n",
       "    </tr>\n",
       "  </thead>\n",
       "  <tbody>\n",
       "    <tr>\n",
       "      <th>0</th>\n",
       "      <td>0</td>\n",
       "      <td>S001R04.edf</td>\n",
       "      <td>0.000040</td>\n",
       "      <td>-0.000021</td>\n",
       "      <td>0.000101</td>\n",
       "      <td>-0.000134</td>\n",
       "      <td>0.000038</td>\n",
       "      <td>-0.000023</td>\n",
       "      <td>0.000092</td>\n",
       "      <td>-0.000138</td>\n",
       "      <td>...</td>\n",
       "      <td>-0.000058</td>\n",
       "      <td>0.000038</td>\n",
       "      <td>1.294466e-05</td>\n",
       "      <td>0.000113</td>\n",
       "      <td>-0.000059</td>\n",
       "      <td>0.000038</td>\n",
       "      <td>-3.761820e-07</td>\n",
       "      <td>0.000114</td>\n",
       "      <td>-0.000081</td>\n",
       "      <td>1</td>\n",
       "    </tr>\n",
       "    <tr>\n",
       "      <th>1</th>\n",
       "      <td>672</td>\n",
       "      <td>S001R04.edf</td>\n",
       "      <td>0.000027</td>\n",
       "      <td>0.000005</td>\n",
       "      <td>0.000067</td>\n",
       "      <td>-0.000060</td>\n",
       "      <td>0.000032</td>\n",
       "      <td>0.000010</td>\n",
       "      <td>0.000075</td>\n",
       "      <td>-0.000081</td>\n",
       "      <td>...</td>\n",
       "      <td>-0.000069</td>\n",
       "      <td>0.000033</td>\n",
       "      <td>1.274179e-05</td>\n",
       "      <td>0.000100</td>\n",
       "      <td>-0.000079</td>\n",
       "      <td>0.000030</td>\n",
       "      <td>1.495558e-05</td>\n",
       "      <td>0.000130</td>\n",
       "      <td>-0.000053</td>\n",
       "      <td>3</td>\n",
       "    </tr>\n",
       "    <tr>\n",
       "      <th>2</th>\n",
       "      <td>1328</td>\n",
       "      <td>S001R04.edf</td>\n",
       "      <td>0.000051</td>\n",
       "      <td>0.000002</td>\n",
       "      <td>0.000093</td>\n",
       "      <td>-0.000122</td>\n",
       "      <td>0.000052</td>\n",
       "      <td>0.000002</td>\n",
       "      <td>0.000093</td>\n",
       "      <td>-0.000113</td>\n",
       "      <td>...</td>\n",
       "      <td>-0.000082</td>\n",
       "      <td>0.000033</td>\n",
       "      <td>-4.349705e-07</td>\n",
       "      <td>0.000080</td>\n",
       "      <td>-0.000080</td>\n",
       "      <td>0.000047</td>\n",
       "      <td>1.516147e-06</td>\n",
       "      <td>0.000112</td>\n",
       "      <td>-0.000106</td>\n",
       "      <td>1</td>\n",
       "    </tr>\n",
       "    <tr>\n",
       "      <th>3</th>\n",
       "      <td>2000</td>\n",
       "      <td>S001R04.edf</td>\n",
       "      <td>0.000038</td>\n",
       "      <td>0.000001</td>\n",
       "      <td>0.000095</td>\n",
       "      <td>-0.000088</td>\n",
       "      <td>0.000046</td>\n",
       "      <td>0.000003</td>\n",
       "      <td>0.000101</td>\n",
       "      <td>-0.000105</td>\n",
       "      <td>...</td>\n",
       "      <td>-0.000117</td>\n",
       "      <td>0.000048</td>\n",
       "      <td>9.954523e-06</td>\n",
       "      <td>0.000135</td>\n",
       "      <td>-0.000113</td>\n",
       "      <td>0.000046</td>\n",
       "      <td>8.908144e-06</td>\n",
       "      <td>0.000133</td>\n",
       "      <td>-0.000104</td>\n",
       "      <td>2</td>\n",
       "    </tr>\n",
       "    <tr>\n",
       "      <th>4</th>\n",
       "      <td>2656</td>\n",
       "      <td>S001R04.edf</td>\n",
       "      <td>0.000038</td>\n",
       "      <td>-0.000013</td>\n",
       "      <td>0.000097</td>\n",
       "      <td>-0.000105</td>\n",
       "      <td>0.000037</td>\n",
       "      <td>-0.000011</td>\n",
       "      <td>0.000103</td>\n",
       "      <td>-0.000088</td>\n",
       "      <td>...</td>\n",
       "      <td>-0.000080</td>\n",
       "      <td>0.000040</td>\n",
       "      <td>-1.790916e-05</td>\n",
       "      <td>0.000138</td>\n",
       "      <td>-0.000085</td>\n",
       "      <td>0.000039</td>\n",
       "      <td>-1.407863e-05</td>\n",
       "      <td>0.000152</td>\n",
       "      <td>-0.000079</td>\n",
       "      <td>1</td>\n",
       "    </tr>\n",
       "  </tbody>\n",
       "</table>\n",
       "<p>5 rows × 259 columns</p>\n",
       "</div>"
      ],
      "text/plain": [
       "   trial_id   subject_id   ch1_std  ch1_mean   ch1_max   ch1_min   ch2_std  \\\n",
       "0         0  S001R04.edf  0.000040 -0.000021  0.000101 -0.000134  0.000038   \n",
       "1       672  S001R04.edf  0.000027  0.000005  0.000067 -0.000060  0.000032   \n",
       "2      1328  S001R04.edf  0.000051  0.000002  0.000093 -0.000122  0.000052   \n",
       "3      2000  S001R04.edf  0.000038  0.000001  0.000095 -0.000088  0.000046   \n",
       "4      2656  S001R04.edf  0.000038 -0.000013  0.000097 -0.000105  0.000037   \n",
       "\n",
       "   ch2_mean   ch2_max   ch2_min  ...  ch62_min  ch63_std     ch63_mean  \\\n",
       "0 -0.000023  0.000092 -0.000138  ... -0.000058  0.000038  1.294466e-05   \n",
       "1  0.000010  0.000075 -0.000081  ... -0.000069  0.000033  1.274179e-05   \n",
       "2  0.000002  0.000093 -0.000113  ... -0.000082  0.000033 -4.349705e-07   \n",
       "3  0.000003  0.000101 -0.000105  ... -0.000117  0.000048  9.954523e-06   \n",
       "4 -0.000011  0.000103 -0.000088  ... -0.000080  0.000040 -1.790916e-05   \n",
       "\n",
       "   ch63_max  ch63_min  ch64_std     ch64_mean  ch64_max  ch64_min  label  \n",
       "0  0.000113 -0.000059  0.000038 -3.761820e-07  0.000114 -0.000081      1  \n",
       "1  0.000100 -0.000079  0.000030  1.495558e-05  0.000130 -0.000053      3  \n",
       "2  0.000080 -0.000080  0.000047  1.516147e-06  0.000112 -0.000106      1  \n",
       "3  0.000135 -0.000113  0.000046  8.908144e-06  0.000133 -0.000104      2  \n",
       "4  0.000138 -0.000085  0.000039 -1.407863e-05  0.000152 -0.000079      1  \n",
       "\n",
       "[5 rows x 259 columns]"
      ]
     },
     "execution_count": 2,
     "metadata": {},
     "output_type": "execute_result"
    }
   ],
   "source": [
    "# Load data from csv file\n",
    "df = pd.read_csv('../data/interim/eeg_motor_imagery.csv')\n",
    "df.head()"
   ]
  },
  {
   "cell_type": "code",
   "execution_count": 3,
   "metadata": {},
   "outputs": [
    {
     "data": {
      "text/plain": [
       "label\n",
       "2    8\n",
       "3    7\n",
       "Name: count, dtype: int64"
      ]
     },
     "execution_count": 3,
     "metadata": {},
     "output_type": "execute_result"
    }
   ],
   "source": [
    "# Remove rest state data to keep only left and right hand imagery\n",
    "df = df[df['label'] != 1]\n",
    "df['label'].value_counts()\n"
   ]
  },
  {
   "cell_type": "code",
   "execution_count": 4,
   "metadata": {},
   "outputs": [
    {
     "data": {
      "text/plain": [
       "label\n",
       "0    8\n",
       "1    7\n",
       "Name: count, dtype: int64"
      ]
     },
     "execution_count": 4,
     "metadata": {},
     "output_type": "execute_result"
    }
   ],
   "source": [
    "# Map labels left hand from 2 → 0, right hand from 3 → 1\n",
    "df['label'] = df['label'].map({2: 0, 3: 1})\n",
    "df['label'].value_counts()\n"
   ]
  },
  {
   "cell_type": "code",
   "execution_count": 6,
   "metadata": {},
   "outputs": [
    {
     "data": {
      "text/plain": [
       "((12, 259), (3, 259))"
      ]
     },
     "execution_count": 6,
     "metadata": {},
     "output_type": "execute_result"
    }
   ],
   "source": [
    "# Split data into train and test \n",
    "train_df, test_df = train_test_split(df, random_state=42, test_size=0.2)\n",
    "train_df.shape, test_df.shape"
   ]
  },
  {
   "cell_type": "code",
   "execution_count": 7,
   "metadata": {},
   "outputs": [],
   "source": [
    "# Save data to processed folder\n",
    "df.to_csv('../data/processed/eeg.csv', index=False)"
   ]
  },
  {
   "cell_type": "markdown",
   "metadata": {},
   "source": [
    "# Key Takeways\n",
    "\n",
    "- Rows with a label of 1 indicating rest state have been removed\n",
    "- Label has been mapped from 2 and 3 to 1 and 0 \n",
    "- Data has been split into train and test data and saved in the data/processed folder\n",
    "- No encoding or null handling is needed"
   ]
  }
 ],
 "metadata": {
  "kernelspec": {
   "display_name": "venv",
   "language": "python",
   "name": "python3"
  },
  "language_info": {
   "codemirror_mode": {
    "name": "ipython",
    "version": 3
   },
   "file_extension": ".py",
   "mimetype": "text/x-python",
   "name": "python",
   "nbconvert_exporter": "python",
   "pygments_lexer": "ipython3",
   "version": "3.9.6"
  }
 },
 "nbformat": 4,
 "nbformat_minor": 2
}
